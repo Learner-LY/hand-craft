{
 "cells": [
  {
   "cell_type": "code",
   "execution_count": 1,
   "metadata": {
    "collapsed": true
   },
   "outputs": [],
   "source": [
    "import numpy as np\n",
    "import h5py\n",
    "from skimage import io\n",
    "from matplotlib import pyplot as plt\n",
    "import torch\n",
    "from torch.autograd import Variable\n",
    "import torch.optim as optim"
   ]
  },
  {
   "cell_type": "code",
   "execution_count": 89,
   "metadata": {},
   "outputs": [],
   "source": [
    "fil=h5py.File('shapemodel.h5','r')\n",
    "fly=open('testface_landmarks.txt')\n",
    "ftxt=fly.readlines()\n",
    "for i in range(len(ftxt)):\n",
    "    ftxt[i]=ftxt[i].strip('\\n').split(' ')\n",
    "for i in range(68):\n",
    "    for j in range(2):\n",
    "        ftxt[i][j]=float(ftxt[i][j])\n",
    "U_label=Variable(torch.FloatTensor(np.array(ftxt).T))\n",
    "\n",
    "d=fil['keypoints'][:][0]\n",
    "s_mean=Variable(torch.FloatTensor(fil['mean_shape'][:]))   #159645*1;\n",
    "s=Variable(torch.FloatTensor(fil['pca_basis'][:]))    #159645*50;\n",
    "P=Variable(torch.FloatTensor(np.array([[1,0,0],[0,1,0]])))\n",
    "sigma=Variable(torch.FloatTensor(fil['sigma'][:]))   #50*1;\n",
    "\n",
    "alpha=Variable(torch.rand((50,1)),requires_grad=True)\n",
    "S=s_mean+s.mm(alpha)\n",
    "S=S.view(53215,3)\n",
    "f=Variable(torch.rand((2,3)),requires_grad=True)\n",
    "R=Variable(torch.rand((3,3)),requires_grad=True)\n",
    "t=Variable(torch.rand((2)),requires_grad=True)\n",
    "S_final=Variable(torch.rand(3,68))\n",
    "for i in range(68):\n",
    "    S_final[:,i]=S[d[i]]\n",
    "U_proj=(f*P).mm(R).mm(S_final)\n",
    "for i in range(68):\n",
    "    U_proj[:,i]=U_proj[:,i]+t\n",
    "for i in range(2):\n",
    "    for j in range(68):\n",
    "        U_proj[i,j]=U_proj[i,j]/torch.sum(U_proj.data[i,:])\n",
    "        U_label[i,j]=U_label[i,j]/torch.sum(U_label.data[i,:])"
   ]
  },
  {
   "cell_type": "code",
   "execution_count": 90,
   "metadata": {
    "collapsed": true
   },
   "outputs": [],
   "source": [
    "loss=((alpha*alpha)/(sigma*sigma)).mean()+((U_proj-U_label)*(U_proj-U_label)).mean()"
   ]
  },
  {
   "cell_type": "code",
   "execution_count": 91,
   "metadata": {
    "collapsed": true
   },
   "outputs": [],
   "source": [
    "optimizer = optim.SGD([f,R,t,alpha], lr = 0.001)"
   ]
  },
  {
   "cell_type": "code",
   "execution_count": 92,
   "metadata": {},
   "outputs": [],
   "source": [
    "loss.backward()\n",
    "optimizer.step()"
   ]
  },
  {
   "cell_type": "code",
   "execution_count": null,
   "metadata": {},
   "outputs": [],
   "source": []
  },
  {
   "cell_type": "code",
   "execution_count": 93,
   "metadata": {},
   "outputs": [],
   "source": [
    "for i in range(100):\n",
    "    U_label=Variable(torch.FloatTensor(np.array(ftxt).T))\n",
    "    d=fil['keypoints'][:][0]\n",
    "    s_mean=Variable(torch.FloatTensor(fil['mean_shape'][:]))   #159645*1;\n",
    "    s=Variable(torch.FloatTensor(fil['pca_basis'][:]))    #159645*50;\n",
    "    P=Variable(torch.FloatTensor(np.array([[1,0,0],[0,1,0]])))\n",
    "    sigma=Variable(torch.FloatTensor(fil['sigma'][:]))   #50*1;\n",
    "\n",
    "    alpha=alpha\n",
    "    S=s_mean+s.mm(alpha)\n",
    "    S=S.view(53215,3)\n",
    "    f=f\n",
    "    R=R\n",
    "    t=t\n",
    "    S_final=Variable(torch.rand(3,68))\n",
    "    for i in range(68):\n",
    "        S_final[:,i]=S[d[i]]\n",
    "    U_proj=(f*P).mm(R).mm(S_final)\n",
    "    for i in range(68):\n",
    "        U_proj[:,i]=U_proj[:,i]+t\n",
    "    for i in range(2):\n",
    "        for j in range(68):\n",
    "            U_proj[i,j]=U_proj[i,j]/torch.sum(U_proj.data[i,:])\n",
    "            U_label[i,j]=U_label[i,j]/torch.sum(U_label.data[i,:])\n",
    "\n",
    "    loss=((alpha*alpha)/(sigma*sigma)).mean()+((U_proj-U_label)*(U_proj-U_label)).mean()\n",
    "    loss.backward()\n",
    "    optimizer.step()"
   ]
  },
  {
   "cell_type": "code",
   "execution_count": 94,
   "metadata": {},
   "outputs": [
    {
     "name": "stdout",
     "output_type": "stream",
     "text": [
      "(Variable containing:\n",
      "1.00000e-03 *\n",
      "  0.0076\n",
      " -5.6213\n",
      "[torch.FloatTensor of size 2]\n",
      ", Variable containing:\n",
      " 0.0142 -0.0548  0.1705\n",
      " 0.0039 -0.0475  0.1662\n",
      " 0.0000  0.0000  0.0000\n",
      "[torch.FloatTensor of size 3x3]\n",
      ", Variable containing:\n",
      "1.00000e-08 *\n",
      "  0.2414\n",
      "  0.0055\n",
      " -0.0236\n",
      " -0.0250\n",
      " -0.5724\n",
      "  0.4306\n",
      "  0.1529\n",
      "  0.0099\n",
      " -1.0464\n",
      " -0.8785\n",
      "  0.8262\n",
      "  0.2367\n",
      "  0.2191\n",
      " -0.3227\n",
      " -0.5398\n",
      " -0.1014\n",
      " -0.4582\n",
      "  0.5164\n",
      "  0.3921\n",
      "  0.1837\n",
      "  1.0308\n",
      " -0.0133\n",
      "  0.7004\n",
      " -1.3150\n",
      " -1.2425\n",
      " -0.2257\n",
      "  0.5646\n",
      " -0.6952\n",
      " -0.7567\n",
      "  0.4618\n",
      " -0.6105\n",
      " -0.4446\n",
      "  1.3213\n",
      "  1.2767\n",
      "  0.4553\n",
      "  1.1679\n",
      "  0.6549\n",
      "  1.0470\n",
      "  0.8373\n",
      "  0.0334\n",
      " -1.0443\n",
      "  0.9279\n",
      " -0.5430\n",
      "  0.2663\n",
      " -0.2967\n",
      "  0.3717\n",
      "  2.6511\n",
      "  0.7521\n",
      " -0.1013\n",
      " -0.1247\n",
      "[torch.FloatTensor of size 50x1]\n",
      ")\n"
     ]
    }
   ],
   "source": [
    "print(t.grad,R.grad,alpha.grad)"
   ]
  },
  {
   "cell_type": "code",
   "execution_count": 99,
   "metadata": {},
   "outputs": [
    {
     "name": "stdout",
     "output_type": "stream",
     "text": [
      "(Variable containing:\n",
      " 0.1777  0.3393  0.7073\n",
      " 0.7726  0.8638  0.8082\n",
      "[torch.FloatTensor of size 2x3]\n",
      ", Variable containing:\n",
      " 0.7624  0.1711  0.5372\n",
      " 0.5482  0.2312  0.8055\n",
      " 0.8648  0.2920  0.2430\n",
      "[torch.FloatTensor of size 3x3]\n",
      ", Variable containing:\n",
      " 0.9527\n",
      " 0.3179\n",
      "[torch.FloatTensor of size 2]\n",
      ", Variable containing:\n",
      " 0.4189\n",
      " 0.6761\n",
      " 0.3855\n",
      " 0.8774\n",
      " 0.3372\n",
      " 0.8324\n",
      " 0.8706\n",
      " 0.6098\n",
      " 0.0523\n",
      " 0.9106\n",
      " 0.0384\n",
      " 0.6873\n",
      " 0.0427\n",
      " 0.0437\n",
      " 0.1322\n",
      " 0.0772\n",
      " 0.7594\n",
      " 0.8549\n",
      " 0.5874\n",
      " 0.4996\n",
      " 0.8745\n",
      " 0.7340\n",
      " 0.8886\n",
      " 0.2629\n",
      " 0.6608\n",
      " 0.8751\n",
      " 0.2547\n",
      " 0.7857\n",
      " 0.1850\n",
      " 0.2048\n",
      " 0.4188\n",
      " 0.2285\n",
      " 0.6840\n",
      " 0.4362\n",
      " 0.1522\n",
      " 0.7037\n",
      " 0.9242\n",
      " 0.2388\n",
      " 0.8442\n",
      " 0.8629\n",
      " 0.5554\n",
      " 0.2291\n",
      " 0.8706\n",
      " 0.3312\n",
      " 0.2218\n",
      " 0.4905\n",
      " 0.6218\n",
      " 0.4586\n",
      " 0.8293\n",
      " 0.2717\n",
      "[torch.FloatTensor of size 50x1]\n",
      ")\n"
     ]
    }
   ],
   "source": [
    "print(f,R,t,alpha)"
   ]
  },
  {
   "cell_type": "code",
   "execution_count": 100,
   "metadata": {},
   "outputs": [
    {
     "data": {
      "text/plain": [
       "Variable containing:\n",
       "1.00000e-04 *\n",
       "  1.7825\n",
       "[torch.FloatTensor of size 1]"
      ]
     },
     "execution_count": 100,
     "metadata": {},
     "output_type": "execute_result"
    }
   ],
   "source": [
    "loss"
   ]
  },
  {
   "cell_type": "code",
   "execution_count": 108,
   "metadata": {
    "collapsed": true
   },
   "outputs": [],
   "source": [
    "file=open('result.txt')"
   ]
  },
  {
   "cell_type": "code",
   "execution_count": 110,
   "metadata": {},
   "outputs": [],
   "source": [
    "aa=file.readlines()"
   ]
  },
  {
   "cell_type": "code",
   "execution_count": null,
   "metadata": {},
   "outputs": [],
   "source": []
  },
  {
   "cell_type": "code",
   "execution_count": null,
   "metadata": {
    "collapsed": true
   },
   "outputs": [],
   "source": []
  }
 ],
 "metadata": {
  "kernelspec": {
   "display_name": "Python 2",
   "language": "python",
   "name": "python2"
  },
  "language_info": {
   "codemirror_mode": {
    "name": "ipython",
    "version": 2
   },
   "file_extension": ".py",
   "mimetype": "text/x-python",
   "name": "python",
   "nbconvert_exporter": "python",
   "pygments_lexer": "ipython2",
   "version": "2.7.13"
  }
 },
 "nbformat": 4,
 "nbformat_minor": 2
}
