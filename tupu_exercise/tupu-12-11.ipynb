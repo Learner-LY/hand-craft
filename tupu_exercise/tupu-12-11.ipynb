{
 "cells": [
  {
   "cell_type": "code",
   "execution_count": 1,
   "metadata": {
    "collapsed": true
   },
   "outputs": [],
   "source": [
    "import numpy as np\n",
    "import h5py\n",
    "from skimage import io\n",
    "from matplotlib import pyplot as plt\n",
    "import torch\n",
    "from torch.autograd import Variable\n",
    "import torch.optim as optim"
   ]
  },
  {
   "cell_type": "code",
   "execution_count": 367,
   "metadata": {
    "collapsed": true
   },
   "outputs": [],
   "source": [
    "fil=h5py.File('shapemodel.h5','r')\n",
    "fly=open('testface_landmarks.txt')\n",
    "ftxt=fly.readlines()\n",
    "for i in range(len(ftxt)):\n",
    "    ftxt[i]=ftxt[i].strip('\\n').split(' ')\n",
    "for i in range(68):\n",
    "    for j in range(2):\n",
    "        ftxt[i][j]=float(ftxt[i][j])"
   ]
  },
  {
   "cell_type": "code",
   "execution_count": 368,
   "metadata": {
    "collapsed": true
   },
   "outputs": [],
   "source": [
    "#对sigma和s_mean_raw加一步标准化;\n",
    "sigma=torch.FloatTensor(fil['sigma'][:])#50*1;\n",
    "sigma=(sigma-torch.mean(sigma))/torch.std(sigma)\n",
    "sigma=Variable(sigma)\n",
    "s_mean_raw=torch.FloatTensor(fil['mean_shape'][:])  #159645*1;\n",
    "s_mean_raw=(s_mean_raw-torch.mean(s_mean_raw))/torch.std(s_mean_raw)\n",
    "s_raw=torch.FloatTensor(fil['pca_basis'][:])   #159645*50;\n",
    "for i in range(50):\n",
    "    s_raw[:,i]=(s_raw[:,i]-torch.mean(s_raw[:,i]))/torch.std(s_raw[:,i])"
   ]
  },
  {
   "cell_type": "code",
   "execution_count": 369,
   "metadata": {
    "collapsed": true
   },
   "outputs": [],
   "source": [
    "#sigma=torch.FloatTensor(fil['sigma'][:])#50*1;\n",
    "#sigma=Variable(sigma)\n",
    "#s_mean_raw=torch.FloatTensor(fil['mean_shape'][:])  #159645*1;\n",
    "#s_raw=torch.FloatTensor(fil['pca_basis'][:])   #159645*50;\n",
    "U_label=Variable(torch.FloatTensor(np.array(ftxt).T))\n",
    "d=fil['keypoints'][:][0]\n",
    "s_mean=torch.rand(204,1)\n",
    "s=torch.rand((204,50))\n",
    "for i in range(204):\n",
    "    if i%3==0:\n",
    "        s_mean[i]=s_mean_raw[d[i/3]*3]\n",
    "        s_mean[i+1]=s_mean_raw[d[i/3]*3+1]\n",
    "        s_mean[i+2]=s_mean_raw[d[i/3]*3+2]\n",
    "for i in range(50):\n",
    "    for j in range(204):\n",
    "        if j%3==0:\n",
    "            s[j,i]=s_raw[d[j/3]*3,i]\n",
    "            s[j+1,i]=s_raw[d[j/3]*3+1,i]\n",
    "            s[j+2,i]=s_raw[d[j/3]*3+2,i]\n",
    "s=Variable(s)\n",
    "s_mean=Variable(s_mean)\n",
    "P=Variable(torch.FloatTensor([[1,0,0],[0,1,0]]))"
   ]
  },
  {
   "cell_type": "code",
   "execution_count": 370,
   "metadata": {
    "collapsed": true
   },
   "outputs": [],
   "source": [
    "#f=Variable(torch.rand(1),requires_grad=True)\n",
    "#alpha_r=np.random.randint(-10,10,(50,1))/10\n",
    "#换一下随即初始化的方式;\n",
    "alpha=Variable(torch.Tensor(50,1).uniform_(-1,1),requires_grad=True)\n",
    "S=s_mean+s.mm(alpha)\n",
    "S=torch.t(S.view(68,3))\n",
    "R=Variable(torch.Tensor(3,3).uniform_(-2,2),requires_grad=True)\n",
    "t=Variable(torch.Tensor(2).uniform_(0,2),requires_grad=True)\n",
    "U_proj=P.mm(R).mm(S)\n",
    "for i in range(68):\n",
    "    U_proj[:,i]=U_proj[:,i]+t"
   ]
  },
  {
   "cell_type": "code",
   "execution_count": 371,
   "metadata": {
    "collapsed": false
   },
   "outputs": [],
   "source": [
    "optimizer = optim.SGD([R,t,alpha], lr = 0.001)\n",
    "#optimizer = optim.Adam([R,t,alpha], lr = 0.000000000001)\n",
    "#adjust learning_rate;\n",
    "#lambda1 = lambda epoch: epoch // 30\n",
    "#lambda2 = lambda epoch: 0.95 ** epoch\n",
    "#scheduler = optim.LambdaLR(optimizer, lr_lambda=[lambda1, lambda2])"
   ]
  },
  {
   "cell_type": "code",
   "execution_count": 372,
   "metadata": {
    "collapsed": false
   },
   "outputs": [],
   "source": [
    "loss=((alpha*alpha)/(sigma*sigma)).mean()+((U_proj-U_label)*(U_proj-U_label)).mean()\n",
    "loss.backward()\n",
    "optimizer.step()"
   ]
  },
  {
   "cell_type": "code",
   "execution_count": 373,
   "metadata": {
    "collapsed": true
   },
   "outputs": [],
   "source": [
    "loss_print=[]\n",
    "loss_100=0"
   ]
  },
  {
   "cell_type": "code",
   "execution_count": null,
   "metadata": {
    "collapsed": false,
    "scrolled": true
   },
   "outputs": [
    {
     "name": "stdout",
     "output_type": "stream",
     "text": [
      "108.513225784\n",
      "108.254841766\n",
      "108.000865707\n",
      "107.750667191\n",
      "107.504117661\n",
      "107.26088501\n",
      "107.021329041\n",
      "106.785146637\n",
      "106.55248909\n",
      "106.322458878\n",
      "106.096126099\n",
      "105.872500076\n",
      "105.651327133\n",
      "105.433933945\n",
      "105.218382797\n",
      "105.00560112\n",
      "104.795841827\n",
      "104.587929153\n",
      "104.382997971\n",
      "104.180176239\n",
      "103.979409637\n",
      "103.781293793\n",
      "103.585498352\n",
      "103.391333694\n",
      "103.199199524\n",
      "103.009803543\n",
      "102.821068878\n",
      "102.635315933\n",
      "102.450906296\n",
      "102.268921814\n",
      "102.087308502\n",
      "101.909068375\n",
      "101.731704407\n",
      "101.556476135\n",
      "101.382449341\n",
      "101.209708252\n",
      "101.038348618\n",
      "100.869031525\n",
      "100.701488571\n",
      "100.534679642\n",
      "100.369120026\n",
      "100.205352936\n",
      "100.04416832\n",
      "99.8818289185\n",
      "99.7224642944\n",
      "99.5635137939\n"
     ]
    }
   ],
   "source": [
    "for i in range(500000):\n",
    "    optimizer.zero_grad()\n",
    "    alpha=alpha\n",
    "    S=s_mean+s.mm(alpha)\n",
    "    S=torch.t(S.view(68,3))\n",
    "    R=R\n",
    "    t=t\n",
    "    U_proj=P.mm(R).mm(S)\n",
    "    for ii in range(68):\n",
    "        U_proj[:,ii]=U_proj[:,ii]+t\n",
    "    loss=((alpha*alpha)/(sigma*sigma)).mean()+((U_proj-U_label)*(U_proj-U_label)).mean()\n",
    "    loss_100=loss_100+loss.data[0]\n",
    "    #print;\n",
    "    loss.backward()\n",
    "    optimizer.step()\n",
    "    #scheduler.step()\n",
    "    if i%100==0:\n",
    "        #print loss_100\n",
    "        loss_print.append(loss_100/100.0)\n",
    "        print(loss_100/100.0)\n",
    "        loss_100=0\n",
    "#plt.plot(loss_print[10:])"
   ]
  },
  {
   "cell_type": "code",
   "execution_count": 405,
   "metadata": {
    "collapsed": false,
    "scrolled": true
   },
   "outputs": [
    {
     "data": {
      "text/plain": [
       "[]"
      ]
     },
     "execution_count": 405,
     "metadata": {},
     "output_type": "execute_result"
    }
   ],
   "source": [
    "loss_print[5100:]"
   ]
  },
  {
   "cell_type": "code",
   "execution_count": null,
   "metadata": {
    "collapsed": false,
    "scrolled": true
   },
   "outputs": [],
   "source": []
  },
  {
   "cell_type": "code",
   "execution_count": 393,
   "metadata": {
    "collapsed": false,
    "scrolled": true
   },
   "outputs": [],
   "source": [
    "#save variable,use np.save(); the variable need to save are:f,R,t,alpha,loss_print,U_proj;\n",
    "np.save('f.npy',t.data.numpy())\n",
    "np.save('R.npy',R.data.numpy())\n",
    "np.save('alpha.npy',alpha.data.numpy())\n",
    "np.save('loss.npy',np.array(loss_print))\n",
    "np.save('U.npy',U_proj.data.numpy())"
   ]
  },
  {
   "cell_type": "code",
   "execution_count": 402,
   "metadata": {
    "collapsed": false
   },
   "outputs": [
    {
     "data": {
      "text/plain": [
       "Variable containing:\n",
       "\n",
       "Columns 0 to 7 \n",
       "  83.0361   85.0362   88.4093   91.7430   95.9245  102.4533  109.8493  119.6364\n",
       "  92.3779  104.4397  115.2020  124.8826  135.3706  143.4386  148.1827  152.0673\n",
       "\n",
       "Columns 8 to 15 \n",
       " 133.6377  147.1751  156.1813  162.6417  167.4982  169.5993  170.9633  172.1913\n",
       " 153.6329  149.2142  143.6258  137.7211  128.7834  117.8099  107.5250   96.0167\n",
       "\n",
       "Columns 16 to 23 \n",
       " 172.0603   92.0248   96.4519  102.5672  108.5833  114.1050  136.2818  141.6346\n",
       "  83.6002   78.0848   71.7372   69.7462   69.8002   71.1668   68.3715   65.8164\n",
       "\n",
       "Columns 24 to 31 \n",
       " 147.7133  154.3363  160.0225  126.8195  127.4933  128.1749  128.7587  122.2041\n",
       "  64.3658   65.2733   71.1240   84.8714   93.0088  100.6941  107.0047  112.7630\n",
       "\n",
       "Columns 32 to 39 \n",
       " 125.1339  129.3370  133.3688  136.3219  101.3609  104.6649  110.0171  115.0647\n",
       " 113.4015  113.9283  112.5248  111.2459   87.3450   84.6894   84.3479   85.8816\n",
       "\n",
       "Columns 40 to 47 \n",
       " 110.8103  105.4986  138.3195  142.9577  148.4163  152.2320  148.2602  142.8710\n",
       "  87.8668   88.7256   83.3881   80.7253   80.2286   82.2255   84.2245   84.5508\n",
       "\n",
       "Columns 48 to 55 \n",
       " 114.2086  119.7987  126.4275  130.1071  133.6345  140.9412  146.9842  140.9071\n",
       " 127.1533  123.5475  120.8719  121.1633  120.2260  121.4194  123.7160  126.7542\n",
       "\n",
       "Columns 56 to 63 \n",
       " 136.1335  131.0704  125.9701  121.1826  115.7312  125.4850  130.3331  135.2304\n",
       " 128.9294  129.7604  129.9106  128.6799  126.5830  124.3212  123.8531  123.4052\n",
       "\n",
       "Columns 64 to 67 \n",
       " 145.8141  135.0647  130.4954  126.0025\n",
       " 123.5355  124.7208  125.4468  125.5418\n",
       "[torch.FloatTensor of size 2x68]"
      ]
     },
     "execution_count": 402,
     "metadata": {},
     "output_type": "execute_result"
    }
   ],
   "source": [
    "U_label"
   ]
  },
  {
   "cell_type": "code",
   "execution_count": 401,
   "metadata": {
    "collapsed": false
   },
   "outputs": [
    {
     "data": {
      "text/plain": [
       "Variable containing:\n",
       "\n",
       "Columns 0 to 7 \n",
       "  84.3808   83.8318   89.0632   91.3499   96.8994  103.5478  108.2996  119.0298\n",
       "  92.3605  103.4624  114.8887  125.0970  135.8044  142.2077  147.8119  153.2513\n",
       "\n",
       "Columns 8 to 15 \n",
       " 133.4798  146.5857  156.3241  162.2541  168.5002  171.2031  170.2704  170.7020\n",
       " 152.8125  149.4647  142.9214  138.1297  128.9337  117.1460  108.1419   95.7200\n",
       "\n",
       "Columns 16 to 23 \n",
       " 172.8249   90.6426   96.4700  102.7323  108.1348  114.3082  135.3802  142.1728\n",
       "  83.9752   79.1180   69.7691   69.7686   72.9683   69.9341   65.6015   65.1247\n",
       "\n",
       "Columns 24 to 31 \n",
       " 148.1342  153.9646  159.6825  125.5563  126.6205  129.4978  129.9979  120.2220\n",
       "  66.1203   66.1394   71.9323   86.6281   91.0939  101.3653  106.6194  111.9914\n",
       "\n",
       "Columns 32 to 39 \n",
       " 124.2410  128.9195  133.3924  136.9647  102.5897  105.4228  109.8738  114.3573\n",
       " 113.8283  114.0957  112.8944  111.6448   87.2141   84.4421   84.4840   86.3123\n",
       "\n",
       "Columns 40 to 47 \n",
       " 110.4951  106.9495  139.0249  143.2516  147.8823  152.7877  147.6271  143.1703\n",
       "  88.0936   88.6943   83.8131   80.1279   79.1834   81.0318   85.1216   84.1033\n",
       "\n",
       "Columns 48 to 55 \n",
       " 114.6087  121.1022  125.7614  129.9568  133.2777  139.3590  146.2916  141.1960\n",
       " 127.9372  124.0431  120.7216  120.6643  118.5112  122.8047  123.8330  125.9863\n",
       "\n",
       "Columns 56 to 63 \n",
       " 136.5954  131.2370  125.5972  120.3843  115.8211  125.7058  131.0823  135.8850\n",
       " 129.3648  128.6465  130.4863  128.9881  126.9802  124.6456  125.3859  123.0164\n",
       "\n",
       "Columns 64 to 67 \n",
       " 145.5614  136.0348  131.0218  126.1304\n",
       " 123.1040  123.9935  124.5497  125.4442\n",
       "[torch.FloatTensor of size 2x68]"
      ]
     },
     "execution_count": 401,
     "metadata": {},
     "output_type": "execute_result"
    }
   ],
   "source": [
    "U_proj"
   ]
  },
  {
   "cell_type": "code",
   "execution_count": 196,
   "metadata": {
    "collapsed": false
   },
   "outputs": [
    {
     "data": {
      "text/plain": [
       "\n",
       "\n",
       "Columns 0 to 9 \n",
       " 0.0793  0.5303  0.9034  0.1460  0.8055  0.6112  0.2066  0.7637  0.6341  0.9574\n",
       "\n",
       "Columns 10 to 19 \n",
       " 0.7608  0.7607  0.6103  0.9933  0.8063  0.7225  0.0139  0.2338  0.5233  0.3382\n",
       "\n",
       "Columns 20 to 29 \n",
       " 0.2916  0.8532  0.9667  0.9085  0.6751  0.5008  0.7224  0.7926  0.2575  0.2356\n",
       "\n",
       "Columns 30 to 39 \n",
       " 0.2784  0.9689  0.6170  0.4036  0.8653  0.0261  0.2742  0.7374  0.4967  0.2771\n",
       "\n",
       "Columns 40 to 49 \n",
       " 0.7585  0.2879  0.2400  0.5845  0.0239  0.1285  0.3464  0.0037  0.0412  0.7082\n",
       "[torch.FloatTensor of size 1x50]"
      ]
     },
     "execution_count": 196,
     "metadata": {},
     "output_type": "execute_result"
    }
   ],
   "source": [
    "alpha.data.view((1,50))"
   ]
  },
  {
   "cell_type": "code",
   "execution_count": 155,
   "metadata": {
    "collapsed": false
   },
   "outputs": [
    {
     "data": {
      "text/plain": [
       "Variable containing:\n",
       "\n",
       "Columns 0 to 7 \n",
       "  83.0361   85.0362   88.4093   91.7430   95.9245  102.4533  109.8493  119.6364\n",
       "  92.3779  104.4397  115.2020  124.8826  135.3706  143.4386  148.1827  152.0673\n",
       "\n",
       "Columns 8 to 15 \n",
       " 133.6377  147.1751  156.1813  162.6417  167.4982  169.5993  170.9633  172.1913\n",
       " 153.6329  149.2142  143.6258  137.7211  128.7834  117.8099  107.5250   96.0167\n",
       "\n",
       "Columns 16 to 23 \n",
       " 172.0603   92.0248   96.4519  102.5672  108.5833  114.1050  136.2818  141.6346\n",
       "  83.6002   78.0848   71.7372   69.7462   69.8002   71.1668   68.3715   65.8164\n",
       "\n",
       "Columns 24 to 31 \n",
       " 147.7133  154.3363  160.0225  126.8195  127.4933  128.1749  128.7587  122.2041\n",
       "  64.3658   65.2733   71.1240   84.8714   93.0088  100.6941  107.0047  112.7630\n",
       "\n",
       "Columns 32 to 39 \n",
       " 125.1339  129.3370  133.3688  136.3219  101.3609  104.6649  110.0171  115.0647\n",
       " 113.4015  113.9283  112.5248  111.2459   87.3450   84.6894   84.3479   85.8816\n",
       "\n",
       "Columns 40 to 47 \n",
       " 110.8103  105.4986  138.3195  142.9577  148.4163  152.2320  148.2602  142.8710\n",
       "  87.8668   88.7256   83.3881   80.7253   80.2286   82.2255   84.2245   84.5508\n",
       "\n",
       "Columns 48 to 55 \n",
       " 114.2086  119.7987  126.4275  130.1071  133.6345  140.9412  146.9842  140.9071\n",
       " 127.1533  123.5475  120.8719  121.1633  120.2260  121.4194  123.7160  126.7542\n",
       "\n",
       "Columns 56 to 63 \n",
       " 136.1335  131.0704  125.9701  121.1826  115.7312  125.4850  130.3331  135.2304\n",
       " 128.9294  129.7604  129.9106  128.6799  126.5830  124.3212  123.8531  123.4052\n",
       "\n",
       "Columns 64 to 67 \n",
       " 145.8141  135.0647  130.4954  126.0025\n",
       " 123.5355  124.7208  125.4468  125.5418\n",
       "[torch.FloatTensor of size 2x68]"
      ]
     },
     "execution_count": 155,
     "metadata": {},
     "output_type": "execute_result"
    }
   ],
   "source": [
    "U_label"
   ]
  },
  {
   "cell_type": "code",
   "execution_count": null,
   "metadata": {
    "collapsed": false
   },
   "outputs": [],
   "source": []
  },
  {
   "cell_type": "code",
   "execution_count": null,
   "metadata": {
    "collapsed": false
   },
   "outputs": [],
   "source": []
  },
  {
   "cell_type": "code",
   "execution_count": null,
   "metadata": {
    "collapsed": false
   },
   "outputs": [],
   "source": []
  },
  {
   "cell_type": "code",
   "execution_count": null,
   "metadata": {
    "collapsed": false
   },
   "outputs": [],
   "source": []
  },
  {
   "cell_type": "code",
   "execution_count": null,
   "metadata": {
    "collapsed": false
   },
   "outputs": [],
   "source": []
  },
  {
   "cell_type": "code",
   "execution_count": null,
   "metadata": {
    "collapsed": true
   },
   "outputs": [],
   "source": []
  }
 ],
 "metadata": {
  "kernelspec": {
   "display_name": "Python 2",
   "language": "python",
   "name": "python2"
  },
  "language_info": {
   "codemirror_mode": {
    "name": "ipython",
    "version": 2
   },
   "file_extension": ".py",
   "mimetype": "text/x-python",
   "name": "python",
   "nbconvert_exporter": "python",
   "pygments_lexer": "ipython2",
   "version": "2.7.13"
  }
 },
 "nbformat": 4,
 "nbformat_minor": 0
}
